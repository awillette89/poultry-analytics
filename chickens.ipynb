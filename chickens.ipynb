{
 "cells": [
  {
   "cell_type": "code",
   "execution_count": 10,
   "id": "b538e06e",
   "metadata": {},
   "outputs": [],
   "source": [
    "import pandas as pd\n",
    "import sqlite3"
   ]
  },
  {
   "cell_type": "code",
   "execution_count": 11,
   "id": "37bc498f",
   "metadata": {},
   "outputs": [],
   "source": [
    "#data read/create dfs\n",
    "egg_environmental_df = pd.read_csv('raw-data/Egg_Production.csv')\n",
    "egg_method_df = pd.read_csv('raw-data/egg-production.csv')"
   ]
  },
  {
   "cell_type": "code",
   "execution_count": 12,
   "id": "0020ccd8",
   "metadata": {},
   "outputs": [
    {
     "name": "stdout",
     "output_type": "stream",
     "text": [
      "   Amount_of_chicken  Amount_of_Feeding  Ammonia  Temperature  Humidity  \\\n",
      "0               2728                170     14.4         29.3      51.7   \n",
      "1               2728                175     17.6         29.3      52.3   \n",
      "2               2728                175     15.0         29.3      52.5   \n",
      "3               2728                170     15.0         29.3      49.7   \n",
      "4               2728                170     15.9         29.2      51.4   \n",
      "\n",
      "   Light_Intensity  Noise  Total_egg_production  \n",
      "0              364    214                  2115  \n",
      "1              369    235                  1958  \n",
      "2              373    237                  1990  \n",
      "3              372    240                  2015  \n",
      "4              381    237                  2112  \n",
      "     Amount_of_chicken  Amount_of_Feeding  Ammonia  Temperature  Humidity  \\\n",
      "476               2735                180     14.4         29.0      49.5   \n",
      "477               2735                185     14.9         29.5      50.7   \n",
      "478               2735                180     16.0         29.5      49.3   \n",
      "479               2732                195     13.4         30.0      51.7   \n",
      "480               2732                175     14.2         30.0      49.6   \n",
      "\n",
      "     Light_Intensity  Noise  Total_egg_production  \n",
      "476              341    224                  2065  \n",
      "477              317    202                  2202  \n",
      "478              346    197                  1972  \n",
      "479              325    183                  2120  \n",
      "480              319    219                  1804  \n",
      "(481, 8)\n",
      "Index(['Amount_of_chicken', 'Amount_of_Feeding', 'Ammonia', 'Temperature',\n",
      "       'Humidity', 'Light_Intensity', 'Noise', 'Total_egg_production'],\n",
      "      dtype='object')\n",
      "Amount_of_chicken         int64\n",
      "Amount_of_Feeding         int64\n",
      "Ammonia                 float64\n",
      "Temperature             float64\n",
      "Humidity                float64\n",
      "Light_Intensity           int64\n",
      "Noise                     int64\n",
      "Total_egg_production      int64\n",
      "dtype: object\n",
      "       Amount_of_chicken  Amount_of_Feeding     Ammonia  Temperature  \\\n",
      "count         481.000000         481.000000  481.000000    481.00000   \n",
      "mean         2710.230769         182.370062   14.992931     29.69210   \n",
      "std            39.105130           7.745715    1.087367      0.81536   \n",
      "min          2639.000000         170.000000   13.100000     28.50000   \n",
      "25%          2673.000000         175.000000   14.200000     29.10000   \n",
      "50%          2728.000000         180.000000   14.900000     29.30000   \n",
      "75%          2736.000000         190.000000   15.800000     30.00000   \n",
      "max          2745.000000         200.000000   17.900000     32.00000   \n",
      "\n",
      "         Humidity  Light_Intensity       Noise  Total_egg_production  \n",
      "count  481.000000       481.000000  481.000000            481.000000  \n",
      "mean    50.724116       332.754678  203.045738           1936.199584  \n",
      "std      1.673308        26.071818   31.669616            189.111513  \n",
      "min     46.100000       239.000000   81.000000           1479.000000  \n",
      "25%     49.700000       319.000000  197.000000           1734.000000  \n",
      "50%     50.700000       336.000000  210.000000           1998.000000  \n",
      "75%     51.700000       349.000000  218.000000           2065.000000  \n",
      "max     54.300000       381.000000  241.000000           2271.000000  \n"
     ]
    }
   ],
   "source": [
    "#eda for egg_environmental_df\n",
    "print(egg_environmental_df.head())\n",
    "print(egg_environmental_df.tail())\n",
    "print(egg_environmental_df.shape)\n",
    "print(egg_environmental_df.columns)\n",
    "print(egg_environmental_df.dtypes)\n",
    "print(egg_environmental_df.describe(include='all'))"
   ]
  },
  {
   "cell_type": "code",
   "execution_count": 13,
   "id": "a3ac57b6",
   "metadata": {},
   "outputs": [
    {
     "name": "stdout",
     "output_type": "stream",
     "text": [
      "  observed_month      prod_type prod_process    n_hens        n_eggs  \\\n",
      "0     2016-07-31  hatching eggs          all  57975000  1.147000e+09   \n",
      "1     2016-08-31  hatching eggs          all  57595000  1.142700e+09   \n",
      "2     2016-09-30  hatching eggs          all  57161000  1.093300e+09   \n",
      "3     2016-10-31  hatching eggs          all  56857000  1.126700e+09   \n",
      "4     2016-11-30  hatching eggs          all  57116000  1.096600e+09   \n",
      "\n",
      "                    source  \n",
      "0  ChicEggs-09-23-2016.pdf  \n",
      "1  ChicEggs-10-21-2016.pdf  \n",
      "2  ChicEggs-11-22-2016.pdf  \n",
      "3  ChicEggs-12-23-2016.pdf  \n",
      "4  ChicEggs-01-24-2017.pdf  \n",
      "    observed_month   prod_type         prod_process    n_hens        n_eggs  \\\n",
      "215     2020-10-31  table eggs  cage-free (organic)  17146500  4.225750e+08   \n",
      "216     2020-11-30  table eggs  cage-free (organic)  17146500  4.140874e+08   \n",
      "217     2020-12-31  table eggs  cage-free (organic)  17146500  4.292200e+08   \n",
      "218     2021-01-31  table eggs  cage-free (organic)  17330500  4.244244e+08   \n",
      "219     2021-02-28  table eggs  cage-free (organic)  17491500  3.869122e+08   \n",
      "\n",
      "                      source  \n",
      "215  PY20201102MCAGEFREE.PDF  \n",
      "216  PY20201207MCAGEFREE.PDF  \n",
      "217  PY20210104MCAGEFREE.PDF  \n",
      "218  PY20210201MCAGEFREE.PDF  \n",
      "219  PY20210301MCAGEFREE.PDF  \n",
      "(220, 6)\n",
      "Index(['observed_month', 'prod_type', 'prod_process', 'n_hens', 'n_eggs',\n",
      "       'source'],\n",
      "      dtype='object')\n",
      "observed_month     object\n",
      "prod_type          object\n",
      "prod_process       object\n",
      "n_hens              int64\n",
      "n_eggs            float64\n",
      "source             object\n",
      "dtype: object\n",
      "       observed_month   prod_type prod_process        n_hens        n_eggs  \\\n",
      "count             220         220          220  2.200000e+02  2.200000e+02   \n",
      "unique             56           2            3           NaN           NaN   \n",
      "top        2018-11-30  table eggs          all           NaN           NaN   \n",
      "freq                4         165          110           NaN           NaN   \n",
      "mean              NaN         NaN          NaN  1.108399e+08  2.606668e+09   \n",
      "std               NaN         NaN          NaN  1.241212e+08  3.082458e+09   \n",
      "min               NaN         NaN          NaN  1.350000e+07  2.980742e+08   \n",
      "25%               NaN         NaN          NaN  1.728450e+07  4.239620e+08   \n",
      "50%               NaN         NaN          NaN  5.993950e+07  1.154550e+09   \n",
      "75%               NaN         NaN          NaN  1.255392e+08  2.963011e+09   \n",
      "max               NaN         NaN          NaN  3.411660e+08  8.601000e+09   \n",
      "\n",
      "                         source  \n",
      "count                       220  \n",
      "unique                      108  \n",
      "top     ChicEggs-12-21-2018.pdf  \n",
      "freq                          4  \n",
      "mean                        NaN  \n",
      "std                         NaN  \n",
      "min                         NaN  \n",
      "25%                         NaN  \n",
      "50%                         NaN  \n",
      "75%                         NaN  \n",
      "max                         NaN  \n"
     ]
    }
   ],
   "source": [
    "#eda for egg_method_df\n",
    "print(egg_method_df.head())\n",
    "print(egg_method_df.tail())\n",
    "print(egg_method_df.shape)\n",
    "print(egg_method_df.columns)\n",
    "print(egg_method_df.dtypes)\n",
    "print(egg_method_df.describe(include='all'))"
   ]
  },
  {
   "cell_type": "code",
   "execution_count": 14,
   "id": "084b0f3f",
   "metadata": {},
   "outputs": [
    {
     "name": "stdout",
     "output_type": "stream",
     "text": [
      "Amount_of_chicken       0\n",
      "Amount_of_Feeding       0\n",
      "Ammonia                 0\n",
      "Temperature             0\n",
      "Humidity                0\n",
      "Light_Intensity         0\n",
      "Noise                   0\n",
      "Total_egg_production    0\n",
      "dtype: int64\n",
      "observed_month    0\n",
      "prod_type         0\n",
      "prod_process      0\n",
      "n_hens            0\n",
      "n_eggs            0\n",
      "source            0\n",
      "dtype: int64\n"
     ]
    }
   ],
   "source": [
    "#examining nulls\n",
    "print(egg_environmental_df.isnull().sum())\n",
    "print(egg_method_df.isnull().sum())"
   ]
  }
 ],
 "metadata": {
  "kernelspec": {
   "display_name": "Python 3",
   "language": "python",
   "name": "python3"
  },
  "language_info": {
   "codemirror_mode": {
    "name": "ipython",
    "version": 3
   },
   "file_extension": ".py",
   "mimetype": "text/x-python",
   "name": "python",
   "nbconvert_exporter": "python",
   "pygments_lexer": "ipython3",
   "version": "3.13.2"
  }
 },
 "nbformat": 4,
 "nbformat_minor": 5
}
