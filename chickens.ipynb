{
 "cells": [
  {
   "cell_type": "code",
   "execution_count": 520,
   "id": "b538e06e",
   "metadata": {},
   "outputs": [],
   "source": [
    "import pandas as pd\n",
    "import sqlite3\n",
    "import matplotlib.pyplot as plt"
   ]
  },
  {
   "cell_type": "code",
   "execution_count": 521,
   "id": "37bc498f",
   "metadata": {},
   "outputs": [],
   "source": [
    "#data read/create dfs\n",
    "prices_df = pd.read_csv('raw-data/egg-prices.csv')\n",
    "production_df = pd.read_csv('raw-data/egg-production.csv')"
   ]
  },
  {
   "cell_type": "markdown",
   "id": "ff99462f",
   "metadata": {},
   "source": [
    "Exploratory Data Analysis for Egg Prices\n",
    "\n",
    "Summary:\n",
    "- 72 rows, 9 columns.\n",
    "- No values in columns 'LOCATION', 'STATE ANSI', 'ASD CODE', 'COUNTY ANSI'.\n",
    "- The average all utilization price is approximately 0.90 $/dozen (minimum: 0.483, maximum: 1.89).\n",
    "- Row count as expected for data from 2016-2021. 6 years x 12 months =  72 rows."
   ]
  },
  {
   "cell_type": "code",
   "execution_count": 522,
   "id": "0020ccd8",
   "metadata": {},
   "outputs": [
    {
     "name": "stdout",
     "output_type": "stream",
     "text": [
      "   YEAR  LOCATION STATE ANSI ASD CODE COUNTY ANSI REFERENCE PERIOD COMMODITY  \\\n",
      "0  2016  US TOTAL                                              JAN      EGGS   \n",
      "1  2016  US TOTAL                                              FEB      EGGS   \n",
      "2  2016  US TOTAL                                              MAR      EGGS   \n",
      "3  2016  US TOTAL                                              APR      EGGS   \n",
      "4  2016  US TOTAL                                              MAY      EGGS   \n",
      "\n",
      "   ALL UTILIZATION PRACTICES in $ / DOZEN  \\\n",
      "0                                   1.180   \n",
      "1                                   1.080   \n",
      "2                                   0.970   \n",
      "3                                   0.680   \n",
      "4                                   0.552   \n",
      "\n",
      "   ALL UTILIZATION PRACTICES, TABLE in $ / DOZEN  \n",
      "0                                          0.969  \n",
      "1                                          0.850  \n",
      "2                                          0.731  \n",
      "3                                          0.391  \n",
      "4                                          0.242  \n",
      "    YEAR  LOCATION STATE ANSI ASD CODE COUNTY ANSI REFERENCE PERIOD COMMODITY  \\\n",
      "67  2021  US TOTAL                                              AUG      EGGS   \n",
      "68  2021  US TOTAL                                              SEP      EGGS   \n",
      "69  2021  US TOTAL                                              OCT      EGGS   \n",
      "70  2021  US TOTAL                                              NOV      EGGS   \n",
      "71  2021  US TOTAL                                              DEC      EGGS   \n",
      "\n",
      "    ALL UTILIZATION PRACTICES in $ / DOZEN  \\\n",
      "67                                   1.070   \n",
      "68                                   1.030   \n",
      "69                                   0.895   \n",
      "70                                   1.090   \n",
      "71                                   1.360   \n",
      "\n",
      "    ALL UTILIZATION PRACTICES, TABLE in $ / DOZEN  \n",
      "67                                          0.824  \n",
      "68                                          0.770  \n",
      "69                                          0.623  \n",
      "70                                          0.845  \n",
      "71                                          1.160  \n",
      "(72, 9)\n",
      "Index(['YEAR', 'LOCATION', 'STATE ANSI', 'ASD CODE', 'COUNTY ANSI',\n",
      "       'REFERENCE PERIOD', 'COMMODITY',\n",
      "       'ALL UTILIZATION PRACTICES in $ / DOZEN',\n",
      "       'ALL UTILIZATION PRACTICES, TABLE in $ / DOZEN'],\n",
      "      dtype='object')\n",
      "YEAR                                               int64\n",
      "LOCATION                                          object\n",
      "STATE ANSI                                        object\n",
      "ASD CODE                                          object\n",
      "COUNTY ANSI                                       object\n",
      "REFERENCE PERIOD                                  object\n",
      "COMMODITY                                         object\n",
      "ALL UTILIZATION PRACTICES in $ / DOZEN           float64\n",
      "ALL UTILIZATION PRACTICES, TABLE in $ / DOZEN    float64\n",
      "dtype: object\n",
      "              YEAR  LOCATION STATE ANSI ASD CODE COUNTY ANSI REFERENCE PERIOD  \\\n",
      "count     72.00000        72         72       72          72               72   \n",
      "unique         NaN         1          1        1           1               12   \n",
      "top            NaN  US TOTAL                                              JAN   \n",
      "freq           NaN        72         72       72          72                6   \n",
      "mean    2018.50000       NaN        NaN      NaN         NaN              NaN   \n",
      "std        1.71981       NaN        NaN      NaN         NaN              NaN   \n",
      "min     2016.00000       NaN        NaN      NaN         NaN              NaN   \n",
      "25%     2017.00000       NaN        NaN      NaN         NaN              NaN   \n",
      "50%     2018.50000       NaN        NaN      NaN         NaN              NaN   \n",
      "75%     2020.00000       NaN        NaN      NaN         NaN              NaN   \n",
      "max     2021.00000       NaN        NaN      NaN         NaN              NaN   \n",
      "\n",
      "       COMMODITY  ALL UTILIZATION PRACTICES in $ / DOZEN  \\\n",
      "count         72                               72.000000   \n",
      "unique         1                                     NaN   \n",
      "top         EGGS                                     NaN   \n",
      "freq          72                                     NaN   \n",
      "mean         NaN                                0.900931   \n",
      "std          NaN                                0.264950   \n",
      "min          NaN                                0.483000   \n",
      "25%          NaN                                0.711250   \n",
      "50%          NaN                                0.874500   \n",
      "75%          NaN                                1.055000   \n",
      "max          NaN                                1.890000   \n",
      "\n",
      "        ALL UTILIZATION PRACTICES, TABLE in $ / DOZEN  \n",
      "count                                       72.000000  \n",
      "unique                                            NaN  \n",
      "top                                               NaN  \n",
      "freq                                              NaN  \n",
      "mean                                         0.660083  \n",
      "std                                          0.304029  \n",
      "min                                          0.197000  \n",
      "25%                                          0.442000  \n",
      "50%                                          0.619000  \n",
      "75%                                          0.828250  \n",
      "max                                          1.810000  \n"
     ]
    }
   ],
   "source": [
    "#eda for prices_df\n",
    "print(prices_df.head())\n",
    "print(prices_df.tail())\n",
    "print(prices_df.shape)\n",
    "print(prices_df.columns)\n",
    "print(prices_df.dtypes)\n",
    "print(prices_df.describe(include='all'))"
   ]
  },
  {
   "cell_type": "code",
   "execution_count": 523,
   "id": "71db3c13",
   "metadata": {},
   "outputs": [
    {
     "name": "stdout",
     "output_type": "stream",
     "text": [
      "YEAR                                             0\n",
      "LOCATION                                         0\n",
      "STATE ANSI                                       0\n",
      "ASD CODE                                         0\n",
      "COUNTY ANSI                                      0\n",
      "REFERENCE PERIOD                                 0\n",
      "COMMODITY                                        0\n",
      "ALL UTILIZATION PRACTICES in $ / DOZEN           0\n",
      "ALL UTILIZATION PRACTICES, TABLE in $ / DOZEN    0\n",
      "dtype: int64\n"
     ]
    }
   ],
   "source": [
    "#examining nulls\n",
    "print(prices_df.isnull().sum())"
   ]
  },
  {
   "cell_type": "markdown",
   "id": "9a1a41b7",
   "metadata": {},
   "source": [
    "Exploratory Data Analysis for Egg Production\n",
    "\n",
    "Summary:\n",
    "- 8,212 rows, 21 columns.\n",
    "- 9 empty columns.\n",
    "- 'State ANSI' has null rows. These were explored more and handled during cleaning.\n",
    "- Several rows contain \"(D)\". These represent redacted data according to USDA quick stats database guide. This resulted in incomplete state data.\n",
    "- Value dtype is object. The column contains integers."
   ]
  },
  {
   "cell_type": "code",
   "execution_count": 524,
   "id": "a3ac57b6",
   "metadata": {},
   "outputs": [
    {
     "name": "stdout",
     "output_type": "stream",
     "text": [
      "  Program  Year Period  Week Ending Geo Level     State  State ANSI  \\\n",
      "0  SURVEY  2021    APR          NaN     STATE   ALABAMA         1.0   \n",
      "1  SURVEY  2021    APR          NaN     STATE   ALABAMA         1.0   \n",
      "2  SURVEY  2021    APR          NaN     STATE   ALABAMA         1.0   \n",
      "3  SURVEY  2021    APR          NaN     STATE   ALABAMA         1.0   \n",
      "4  SURVEY  2021    APR          NaN     STATE  ARKANSAS         5.0   \n",
      "\n",
      "   Ag District  Ag District Code  County  ...  Zip Code  Region  \\\n",
      "0          NaN               NaN     NaN  ...       NaN     NaN   \n",
      "1          NaN               NaN     NaN  ...       NaN     NaN   \n",
      "2          NaN               NaN     NaN  ...       NaN     NaN   \n",
      "3          NaN               NaN     NaN  ...       NaN     NaN   \n",
      "4          NaN               NaN     NaN  ...       NaN     NaN   \n",
      "\n",
      "   watershed_code  Watershed  Commodity  \\\n",
      "0               0        NaN       EGGS   \n",
      "1               0        NaN       EGGS   \n",
      "2               0        NaN       EGGS   \n",
      "3               0        NaN       EGGS   \n",
      "4               0        NaN       EGGS   \n",
      "\n",
      "                                        Data Item Domain Domain Category  \\\n",
      "0  EGGS, HATCHING - PRODUCTION, MEASURED IN DOZEN  TOTAL   NOT SPECIFIED   \n",
      "1   EGGS, HATCHING - PRODUCTION, MEASURED IN EGGS  TOTAL   NOT SPECIFIED   \n",
      "2     EGGS, TABLE - PRODUCTION, MEASURED IN DOZEN  TOTAL   NOT SPECIFIED   \n",
      "3      EGGS, TABLE - PRODUCTION, MEASURED IN EGGS  TOTAL   NOT SPECIFIED   \n",
      "4  EGGS, HATCHING - PRODUCTION, MEASURED IN DOZEN  TOTAL   NOT SPECIFIED   \n",
      "\n",
      "         Value CV (%)  \n",
      "0   13,241,700    NaN  \n",
      "1  158,900,000    NaN  \n",
      "2    3,025,000    NaN  \n",
      "3   36,300,000    NaN  \n",
      "4          (D)    NaN  \n",
      "\n",
      "[5 rows x 21 columns]\n",
      "     Program  Year Period  Week Ending Geo Level       State  State ANSI  \\\n",
      "8207  SURVEY  2016    SEP          NaN     STATE  WASHINGTON        53.0   \n",
      "8208  SURVEY  2016    SEP          NaN     STATE   WISCONSIN        55.0   \n",
      "8209  SURVEY  2016    SEP          NaN     STATE   WISCONSIN        55.0   \n",
      "8210  SURVEY  2016    SEP          NaN     STATE   WISCONSIN        55.0   \n",
      "8211  SURVEY  2016    SEP          NaN     STATE   WISCONSIN        55.0   \n",
      "\n",
      "      Ag District  Ag District Code  County  ...  Zip Code  Region  \\\n",
      "8207          NaN               NaN     NaN  ...       NaN     NaN   \n",
      "8208          NaN               NaN     NaN  ...       NaN     NaN   \n",
      "8209          NaN               NaN     NaN  ...       NaN     NaN   \n",
      "8210          NaN               NaN     NaN  ...       NaN     NaN   \n",
      "8211          NaN               NaN     NaN  ...       NaN     NaN   \n",
      "\n",
      "      watershed_code  Watershed  Commodity  \\\n",
      "8207               0        NaN       EGGS   \n",
      "8208               0        NaN       EGGS   \n",
      "8209               0        NaN       EGGS   \n",
      "8210               0        NaN       EGGS   \n",
      "8211               0        NaN       EGGS   \n",
      "\n",
      "                                           Data Item Domain Domain Category  \\\n",
      "8207      EGGS, TABLE - PRODUCTION, MEASURED IN EGGS  TOTAL   NOT SPECIFIED   \n",
      "8208  EGGS, HATCHING - PRODUCTION, MEASURED IN DOZEN  TOTAL   NOT SPECIFIED   \n",
      "8209   EGGS, HATCHING - PRODUCTION, MEASURED IN EGGS  TOTAL   NOT SPECIFIED   \n",
      "8210     EGGS, TABLE - PRODUCTION, MEASURED IN DOZEN  TOTAL   NOT SPECIFIED   \n",
      "8211      EGGS, TABLE - PRODUCTION, MEASURED IN EGGS  TOTAL   NOT SPECIFIED   \n",
      "\n",
      "     Value CV (%)  \n",
      "8207   (D)    NaN  \n",
      "8208   (D)    NaN  \n",
      "8209   (D)    NaN  \n",
      "8210   (D)    NaN  \n",
      "8211   (D)    NaN  \n",
      "\n",
      "[5 rows x 21 columns]\n",
      "(8212, 21)\n",
      "Index(['Program', 'Year', 'Period', 'Week Ending', 'Geo Level', 'State',\n",
      "       'State ANSI', 'Ag District', 'Ag District Code', 'County',\n",
      "       'County ANSI', 'Zip Code', 'Region', 'watershed_code', 'Watershed',\n",
      "       'Commodity', 'Data Item', 'Domain', 'Domain Category', 'Value',\n",
      "       'CV (%)'],\n",
      "      dtype='object')\n",
      "Program              object\n",
      "Year                  int64\n",
      "Period               object\n",
      "Week Ending         float64\n",
      "Geo Level            object\n",
      "State                object\n",
      "State ANSI          float64\n",
      "Ag District         float64\n",
      "Ag District Code    float64\n",
      "County              float64\n",
      "County ANSI         float64\n",
      "Zip Code            float64\n",
      "Region              float64\n",
      "watershed_code        int64\n",
      "Watershed           float64\n",
      "Commodity            object\n",
      "Data Item            object\n",
      "Domain               object\n",
      "Domain Category      object\n",
      "Value                object\n",
      "CV (%)              float64\n",
      "dtype: object\n"
     ]
    },
    {
     "name": "stdout",
     "output_type": "stream",
     "text": [
      "       Program         Year Period  Week Ending Geo Level    State  \\\n",
      "count     8212  8212.000000   8212          0.0      8212     8212   \n",
      "unique       1          NaN     12          NaN         1       30   \n",
      "top     SURVEY          NaN    DEC          NaN     STATE  ALABAMA   \n",
      "freq      8212          NaN    688          NaN      8212      288   \n",
      "mean       NaN  2018.526059    NaN          NaN       NaN      NaN   \n",
      "std        NaN     1.707350    NaN          NaN       NaN      NaN   \n",
      "min        NaN  2016.000000    NaN          NaN       NaN      NaN   \n",
      "25%        NaN  2017.000000    NaN          NaN       NaN      NaN   \n",
      "50%        NaN  2019.000000    NaN          NaN       NaN      NaN   \n",
      "75%        NaN  2020.000000    NaN          NaN       NaN      NaN   \n",
      "max        NaN  2021.000000    NaN          NaN       NaN      NaN   \n",
      "\n",
      "         State ANSI  Ag District  Ag District Code  County  ...  Zip Code  \\\n",
      "count   7924.000000          0.0               0.0     0.0  ...       0.0   \n",
      "unique          NaN          NaN               NaN     NaN  ...       NaN   \n",
      "top             NaN          NaN               NaN     NaN  ...       NaN   \n",
      "freq            NaN          NaN               NaN     NaN  ...       NaN   \n",
      "mean      30.209490          NaN               NaN     NaN  ...       NaN   \n",
      "std       15.672498          NaN               NaN     NaN  ...       NaN   \n",
      "min        1.000000          NaN               NaN     NaN  ...       NaN   \n",
      "25%       18.000000          NaN               NaN     NaN  ...       NaN   \n",
      "50%       29.000000          NaN               NaN     NaN  ...       NaN   \n",
      "75%       45.000000          NaN               NaN     NaN  ...       NaN   \n",
      "max       55.000000          NaN               NaN     NaN  ...       NaN   \n",
      "\n",
      "        Region  watershed_code  Watershed  Commodity  \\\n",
      "count      0.0          8212.0        0.0       8212   \n",
      "unique     NaN             NaN        NaN          1   \n",
      "top        NaN             NaN        NaN       EGGS   \n",
      "freq       NaN             NaN        NaN       8212   \n",
      "mean       NaN             0.0        NaN        NaN   \n",
      "std        NaN             0.0        NaN        NaN   \n",
      "min        NaN             0.0        NaN        NaN   \n",
      "25%        NaN             0.0        NaN        NaN   \n",
      "50%        NaN             0.0        NaN        NaN   \n",
      "75%        NaN             0.0        NaN        NaN   \n",
      "max        NaN             0.0        NaN        NaN   \n",
      "\n",
      "                                             Data Item Domain Domain Category  \\\n",
      "count                                             8212   8212            8212   \n",
      "unique                                               4      1               1   \n",
      "top     EGGS, HATCHING - PRODUCTION, MEASURED IN DOZEN  TOTAL   NOT SPECIFIED   \n",
      "freq                                              2053   8212            8212   \n",
      "mean                                               NaN    NaN             NaN   \n",
      "std                                                NaN    NaN             NaN   \n",
      "min                                                NaN    NaN             NaN   \n",
      "25%                                                NaN    NaN             NaN   \n",
      "50%                                                NaN    NaN             NaN   \n",
      "75%                                                NaN    NaN             NaN   \n",
      "max                                                NaN    NaN             NaN   \n",
      "\n",
      "       Value CV (%)  \n",
      "count   8212    0.0  \n",
      "unique  3077    NaN  \n",
      "top      (D)    NaN  \n",
      "freq    2888    NaN  \n",
      "mean     NaN    NaN  \n",
      "std      NaN    NaN  \n",
      "min      NaN    NaN  \n",
      "25%      NaN    NaN  \n",
      "50%      NaN    NaN  \n",
      "75%      NaN    NaN  \n",
      "max      NaN    NaN  \n",
      "\n",
      "[11 rows x 21 columns]\n"
     ]
    }
   ],
   "source": [
    "#eda for production_df\n",
    "print(production_df.head())\n",
    "print(production_df.tail())\n",
    "print(production_df.shape)\n",
    "print(production_df.columns)\n",
    "print(production_df.dtypes)\n",
    "print(production_df.describe(include='all'))"
   ]
  },
  {
   "cell_type": "code",
   "execution_count": 525,
   "id": "084b0f3f",
   "metadata": {},
   "outputs": [
    {
     "name": "stdout",
     "output_type": "stream",
     "text": [
      "Program                0\n",
      "Year                   0\n",
      "Period                 0\n",
      "Week Ending         8212\n",
      "Geo Level              0\n",
      "State                  0\n",
      "State ANSI           288\n",
      "Ag District         8212\n",
      "Ag District Code    8212\n",
      "County              8212\n",
      "County ANSI         8212\n",
      "Zip Code            8212\n",
      "Region              8212\n",
      "watershed_code         0\n",
      "Watershed           8212\n",
      "Commodity              0\n",
      "Data Item              0\n",
      "Domain                 0\n",
      "Domain Category        0\n",
      "Value                  0\n",
      "CV (%)              8212\n",
      "dtype: int64\n"
     ]
    }
   ],
   "source": [
    "#examining nulls\n",
    "print(production_df.isnull().sum())"
   ]
  },
  {
   "cell_type": "markdown",
   "id": "7f4d231f",
   "metadata": {},
   "source": [
    "Cleans `production_df` by removing unnecessary or empty columns, dropping rows with '(D)' in the 'Value' column (indicating no data), converting the 'Value' column to integers, removing rows for 'OTHER STATES', filtering for data measured in dozens, converting 'State ANSI' to integer type, and renaming columns for clarity and consistency."
   ]
  },
  {
   "cell_type": "code",
   "execution_count": 526,
   "id": "59b0e3bd",
   "metadata": {},
   "outputs": [
    {
     "name": "stdout",
     "output_type": "stream",
     "text": [
      "    Year Month     State  State Identifier  \\\n",
      "0   2021   APR   ALABAMA                 1   \n",
      "2   2021   APR   ALABAMA                 1   \n",
      "16  2021   APR   GEORGIA                13   \n",
      "18  2021   APR   GEORGIA                13   \n",
      "20  2021   APR  ILLINOIS                17   \n",
      "\n",
      "                                          Egg Type  Production in Dozens  \n",
      "0   EGGS, HATCHING - PRODUCTION, MEASURED IN DOZEN              13241700  \n",
      "2      EGGS, TABLE - PRODUCTION, MEASURED IN DOZEN               3025000  \n",
      "16  EGGS, HATCHING - PRODUCTION, MEASURED IN DOZEN              15958400  \n",
      "18     EGGS, TABLE - PRODUCTION, MEASURED IN DOZEN              19200000  \n",
      "20  EGGS, HATCHING - PRODUCTION, MEASURED IN DOZEN                291700  \n"
     ]
    }
   ],
   "source": [
    "#drop unneccessary and empty columns\n",
    "production_df = production_df.drop(columns=['Program', 'Week Ending', 'Ag District', 'Geo Level', 'Ag District Code', 'County', 'County ANSI', 'Zip Code', 'Region', 'watershed_code', \n",
    "                                            'Watershed', 'Commodity', 'Domain', 'Domain Category', 'CV (%)'])\n",
    "\n",
    "#drop rows with (D) under Value column, represents no data. strip used because there is a space in front of (D).\n",
    "production_df = production_df[production_df['Value'].str.strip() != '(D)']\n",
    "\n",
    "#changing 'Value' column dtype to int instead of object for later calculations.\n",
    "production_df['Value'] = production_df['Value'].str.replace(',', '').astype(int)\n",
    "\n",
    "#'State ANSI' nulls represent 'OTHER STATES' in 'State' column, dropping these rows\n",
    "production_df = production_df[production_df['State'] != 'OTHER STATES']\n",
    "\n",
    "#need to match unit of measurement with prices_df, removing rows not measured by the dozen.\n",
    "production_df = production_df[~production_df['Data Item'].str.contains('MEASURED IN EGGS')]\n",
    "\n",
    "#'State Ansi' dtype change from float64 to int64 to remove decimals\n",
    "production_df['State ANSI'] = production_df['State ANSI'].astype(int)\n",
    "\n",
    "#rename columns for clarity and consistency\n",
    "production_df.columns = ['Year', 'Month', 'State', 'State Identifier', 'Egg Type', 'Production in Dozens']\n",
    "\n",
    "#verify\n",
    "print(production_df.head())\n"
   ]
  },
  {
   "cell_type": "markdown",
   "id": "aa9d484e",
   "metadata": {},
   "source": [
    "Cleans `prices_df`. Empty columns removed. Remaining columns renamed for clarity and consistency."
   ]
  },
  {
   "cell_type": "code",
   "execution_count": 527,
   "id": "3439e4bb",
   "metadata": {},
   "outputs": [
    {
     "name": "stdout",
     "output_type": "stream",
     "text": [
      "   Year Month  Price($) per Dozen (All Types)  Price per Dozen (Table)\n",
      "0  2016   JAN                           1.180                    0.969\n",
      "1  2016   FEB                           1.080                    0.850\n",
      "2  2016   MAR                           0.970                    0.731\n",
      "3  2016   APR                           0.680                    0.391\n",
      "4  2016   MAY                           0.552                    0.242\n"
     ]
    }
   ],
   "source": [
    "#drop empty columns\n",
    "prices_df = prices_df.drop(columns=['LOCATION', 'STATE ANSI', 'ASD CODE', 'COUNTY ANSI', 'COMMODITY'])\n",
    "\n",
    "#rename columns for clarity and consistency\n",
    "prices_df.columns = ['Year', 'Month', 'Price($) per Dozen (All Types)', 'Price per Dozen (Table)']\n",
    "\n",
    "#verify\n",
    "print(prices_df.head())"
   ]
  },
  {
   "cell_type": "markdown",
   "id": "5f912747",
   "metadata": {},
   "source": [
    "Creates SQLite database `egg_data.db`. `production` table created based on `production_df` and `prices` table created based on `prices_df`."
   ]
  },
  {
   "cell_type": "code",
   "execution_count": 528,
   "id": "8735ce57",
   "metadata": {},
   "outputs": [
    {
     "name": "stdout",
     "output_type": "stream",
     "text": [
      "      Year Month         State  State Identifier  \\\n",
      "0     2021   APR       ALABAMA                 1   \n",
      "1     2021   APR       ALABAMA                 1   \n",
      "2     2021   APR       GEORGIA                13   \n",
      "3     2021   APR       GEORGIA                13   \n",
      "4     2021   APR      ILLINOIS                17   \n",
      "...    ...   ...           ...               ...   \n",
      "2513  2016   SEP  SOUTH DAKOTA                46   \n",
      "2514  2016   SEP          UTAH                49   \n",
      "2515  2016   SEP          UTAH                49   \n",
      "2516  2016   SEP      VIRGINIA                51   \n",
      "2517  2016   SEP      VIRGINIA                51   \n",
      "\n",
      "                                            Egg Type  Production in Dozens  \n",
      "0     EGGS, HATCHING - PRODUCTION, MEASURED IN DOZEN              13241700  \n",
      "1        EGGS, TABLE - PRODUCTION, MEASURED IN DOZEN               3025000  \n",
      "2     EGGS, HATCHING - PRODUCTION, MEASURED IN DOZEN              15958400  \n",
      "3        EGGS, TABLE - PRODUCTION, MEASURED IN DOZEN              19200000  \n",
      "4     EGGS, HATCHING - PRODUCTION, MEASURED IN DOZEN                291700  \n",
      "...                                              ...                   ...  \n",
      "2513     EGGS, TABLE - PRODUCTION, MEASURED IN DOZEN               4741700  \n",
      "2514  EGGS, HATCHING - PRODUCTION, MEASURED IN DOZEN                     0  \n",
      "2515     EGGS, TABLE - PRODUCTION, MEASURED IN DOZEN               8675000  \n",
      "2516  EGGS, HATCHING - PRODUCTION, MEASURED IN DOZEN               2633300  \n",
      "2517     EGGS, TABLE - PRODUCTION, MEASURED IN DOZEN               2916700  \n",
      "\n",
      "[2518 rows x 6 columns]\n",
      "    Year Month  Price($) per Dozen (All Types)  Price per Dozen (Table)\n",
      "0   2016   JAN                           1.180                    0.969\n",
      "1   2016   FEB                           1.080                    0.850\n",
      "2   2016   MAR                           0.970                    0.731\n",
      "3   2016   APR                           0.680                    0.391\n",
      "4   2016   MAY                           0.552                    0.242\n",
      "..   ...   ...                             ...                      ...\n",
      "67  2021   AUG                           1.070                    0.824\n",
      "68  2021   SEP                           1.030                    0.770\n",
      "69  2021   OCT                           0.895                    0.623\n",
      "70  2021   NOV                           1.090                    0.845\n",
      "71  2021   DEC                           1.360                    1.160\n",
      "\n",
      "[72 rows x 4 columns]\n"
     ]
    }
   ],
   "source": [
    "#create connection\n",
    "conn = sqlite3.connect('egg_data.db')\n",
    "cursor = conn.cursor()\n",
    "\n",
    "#create production table\n",
    "cursor.execute(\"\"\"\n",
    "CREATE TABLE IF NOT EXISTS production (\n",
    "    Year INTEGER,\n",
    "    Month TEXT,\n",
    "    State TEXT,\n",
    "    \"State Identifier\" INTEGER,\n",
    "    \"Egg Type\" TEXT,\n",
    "    \"Production in Dozens\" INTEGER,\n",
    "    PRIMARY KEY (Year, Month)\n",
    ")\n",
    "\"\"\")\n",
    "\n",
    "#create prices table\n",
    "cursor.execute(\"\"\"\n",
    "CREATE TABLE IF NOT EXISTS prices (\n",
    "    Year INTEGER,\n",
    "    Month TEXT,\n",
    "    State TEXT,\n",
    "    \"Price($) per Dozen (All Types)\" REAL,\n",
    "    \"Price per Dozen (Table)\" REAL,\n",
    "    PRIMARY KEY (Year, Month)\n",
    ")\n",
    "\"\"\")\n",
    "\n",
    "#insert data into tables\n",
    "production_df.to_sql(\"production\", conn, if_exists=\"replace\", index=False)\n",
    "prices_df.to_sql(\"prices\", conn, if_exists=\"replace\", index=False)\n",
    "\n",
    "#verify tables\n",
    "print(pd.read_sql_query(\"SELECT * FROM production\", conn))\n",
    "print(pd.read_sql_query(\"SELECT * FROM prices\", conn))"
   ]
  },
  {
   "cell_type": "markdown",
   "id": "41279d8a",
   "metadata": {},
   "source": [
    "Joins tables previously produced on Month and Year columns. Results of the join are then output to a csv for visualization in Tableau/additional analysis in the future."
   ]
  },
  {
   "cell_type": "code",
   "execution_count": 529,
   "id": "bdcd82c1",
   "metadata": {},
   "outputs": [
    {
     "name": "stdout",
     "output_type": "stream",
     "text": [
      "   Year Month  Price($) per Dozen (All Types)  Price per Dozen (Table)  \\\n",
      "0  2016   JAN                            1.18                    0.969   \n",
      "1  2016   JAN                            1.18                    0.969   \n",
      "2  2016   JAN                            1.18                    0.969   \n",
      "3  2016   JAN                            1.18                    0.969   \n",
      "4  2016   JAN                            1.18                    0.969   \n",
      "\n",
      "      State  State Identifier                                        Egg Type  \\\n",
      "0   ALABAMA                 1  EGGS, HATCHING - PRODUCTION, MEASURED IN DOZEN   \n",
      "1   ALABAMA                 1     EGGS, TABLE - PRODUCTION, MEASURED IN DOZEN   \n",
      "2  ARKANSAS                 5  EGGS, HATCHING - PRODUCTION, MEASURED IN DOZEN   \n",
      "3  ARKANSAS                 5     EGGS, TABLE - PRODUCTION, MEASURED IN DOZEN   \n",
      "4   FLORIDA                12  EGGS, HATCHING - PRODUCTION, MEASURED IN DOZEN   \n",
      "\n",
      "   Production in Dozens  \n",
      "0              11641700  \n",
      "1               3383400  \n",
      "2              15716700  \n",
      "3               8850000  \n",
      "4                291700  \n"
     ]
    }
   ],
   "source": [
    "query = \"\"\"\n",
    "SELECT \n",
    "    prices.Year, \n",
    "    prices.Month, \n",
    "    prices.\"Price($) per Dozen (All Types)\", \n",
    "    prices.\"Price per Dozen (Table)\", \n",
    "    production.State, \n",
    "    production.\"State Identifier\", \n",
    "    production.\"Egg Type\", \n",
    "    production.\"Production in Dozens\" \n",
    "FROM prices\n",
    "JOIN production\n",
    "ON production.Month = prices.Month AND production.Year = prices.Year;\n",
    "\"\"\"\n",
    "\n",
    "#view results, output to csv\n",
    "joined_df = pd.read_sql_query(query, conn)\n",
    "print(joined_df.head())\n",
    "joined_df.to_csv('output.csv')"
   ]
  },
  {
   "cell_type": "markdown",
   "id": "b5452743",
   "metadata": {},
   "source": [
    "Shows the top 10 egg producing states for the entire 2016-2021 period combined using Pandas. A new column is created to sum the egg production for each state over the entire 6 year period.\n",
    "\n",
    "Findings:\n",
    "- Iowa is top producer by a large margin.\n",
    "- Iowa, Indiana, and Georgia produce most of the country's eggs."
   ]
  },
  {
   "cell_type": "code",
   "execution_count": null,
   "id": "e0726ef7",
   "metadata": {},
   "outputs": [
    {
     "name": "stdout",
     "output_type": "stream",
     "text": [
      "State\n",
      "IOWA           7835025200\n",
      "INDIANA        4974425700\n",
      "GEORGIA        2526225500\n",
      "MINNESOTA      1438342600\n",
      "ALABAMA        1121216900\n",
      "ILLINOIS        886150400\n",
      "ARKANSAS        840808600\n",
      "FLORIDA         520617000\n",
      "MARYLAND        395884800\n",
      "MISSISSIPPI     340233000\n",
      "Name: TotalStateProduction, dtype: int64\n"
     ]
    },
    {
     "data": {
      "image/png": "[encoded data removed]",
      "text/plain": [
       "<Figure size 640x480 with 1 Axes>"
      ]
     },
     "metadata": {},
     "output_type": "display_data"
    }
   ],
   "source": [
    "#new column for total production by state\n",
    "joined_df['TotalStateProduction'] = joined_df.groupby('State')['Production in Dozens'].transform('sum')\n",
    "\n",
    "#plot\n",
    "top_states = joined_df.groupby('State')['TotalStateProduction'].max().head(10).sort_values(ascending=True)\n",
    "pandas_plot = top_states.plot(kind='barh', x='TotalStateProduction', y='State', title='Top Egg Producers')\n",
    "\n",
    "#label x, remove y label\n",
    "pandas_plot.set_xlabel('Dozens (in billions)')\n",
    "pandas_plot.set_ylabel('')\n",
    "\n",
    "print(top_states.head(10).sort_values(ascending=False))"
   ]
  },
  {
   "cell_type": "markdown",
   "id": "bb60cc78",
   "metadata": {},
   "source": [
    "Shows egg production fluctuations over time using Matplotlib.\n",
    "\n",
    "Findings:\n",
    "- Production for the year often peaks October through December.\n",
    "- Dips in production happen in Februrary/March.\n",
    "- 2019 was the peak year for production."
   ]
  },
  {
   "cell_type": "code",
   "execution_count": 531,
   "id": "6b251a63",
   "metadata": {},
   "outputs": [
    {
     "data": {
      "image/png": "[encoded data removed]",
      "text/plain": [
       "<Figure size 1000x600 with 1 Axes>"
      ]
     },
     "metadata": {},
     "output_type": "display_data"
    }
   ],
   "source": [
    "#new column for yearly totals\n",
    "joined_df['TotalYearlyProduction'] = joined_df.groupby(['Year', 'Month'])['Production in Dozens'].transform('sum')\n",
    "\n",
    "#new column for combined year and month to use on x axis\n",
    "joined_df['Year/Month'] = joined_df['Month'] + '-' + joined_df['Year'].astype(str)\n",
    "\n",
    "#make plot for yearly fluctuations\n",
    "plt.figure(figsize=(10, 6))\n",
    "plt.plot(joined_df['Year/Month'], joined_df['TotalYearlyProduction'])\n",
    "\n",
    "#make x axis readable\n",
    "plt.xticks(rotation=90, ha='right')\n",
    "\n",
    "\n",
    "#display\n",
    "plt.tight_layout()\n",
    "plt.show()"
   ]
  },
  {
   "cell_type": "code",
   "execution_count": 532,
   "id": "4cb8d299",
   "metadata": {},
   "outputs": [],
   "source": [
    "#Heatmap for egg production"
   ]
  }
 ],
 "metadata": {
  "kernelspec": {
   "display_name": "venv (3.13.2)",
   "language": "python",
   "name": "python3"
  },
  "language_info": {
   "codemirror_mode": {
    "name": "ipython",
    "version": 3
   },
   "file_extension": ".py",
   "mimetype": "text/x-python",
   "name": "python",
   "nbconvert_exporter": "python",
   "pygments_lexer": "ipython3",
   "version": "3.13.2"
  }
 },
 "nbformat": 4,
 "nbformat_minor": 5
}
